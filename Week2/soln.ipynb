{
 "cells": [
  {
   "cell_type": "code",
   "execution_count": 1,
   "metadata": {},
   "outputs": [],
   "source": [
    "import numpy as np"
   ]
  },
  {
   "cell_type": "code",
   "execution_count": 10,
   "metadata": {},
   "outputs": [],
   "source": [
    "class Perceptron(object):\n",
    "    def __init__(self, input_size):\n",
    "        self.weights = np.random.randn(input_size)\n",
    "        self.bias = np.random.rand(1)\n",
    "\n",
    "    def sigmoid(self, z):\n",
    "        return 1/(1+np.exp(-z))\n",
    "\n",
    "    def forward(self, X):\n",
    "        return self.sigmoid(np.dot(X,self.weights) + self.bias)\n",
    "\n",
    "    def cost(self, X, Y):\n",
    "        yhat = self.forward(X)\n",
    "        return (1/X.size)*np.sum(-Y*np.log(yhat)-(1-Y)*np.log(1-yhat))\n",
    "\n",
    "    def gradient(self, X, Y):\n",
    "        yhat = self.forward(X)\n",
    "        wprime = (1/X.size) * np.dot((Y-yhat)/yhat/(1-yhat),X)\n",
    "        bprime = (1/X.size)*np.sum((Y-yhat)/yhat/(1-yhat))\n",
    "        return wprime, bprime\n",
    "\n",
    "    def train(self, X, Y):\n",
    "        cost = self.cost(X,Y)\n",
    "        while(cost>1e-5):\n",
    "            wprime, bprime = self.gradient(X,Y)\n",
    "            print(bprime)\n",
    "            self.weights-=wprime\n",
    "            self.bias-=bprime\n",
    "            cost = self.cost(X,Y)\n",
    "        return self.weights, self.bias\n",
    "\n",
    "    def predict(self, X):\n",
    "        predictions = self.forward(X)\n",
    "        for i in range(len(predictions)):\n",
    "            if(predictions[i]>=0.5):\n",
    "                predictions[i] = 1\n",
    "            else:\n",
    "                predictions[i] = 0\n",
    "        return predictions"
   ]
  },
  {
   "cell_type": "code",
   "execution_count": 11,
   "metadata": {},
   "outputs": [
    {
     "name": "stdout",
     "output_type": "stream",
     "text": [
      "-1.8550023124660142\n",
      "-32.054678460058696\n",
      "[1. 1. 1. 1.]\n"
     ]
    },
    {
     "name": "stderr",
     "output_type": "stream",
     "text": [
      "/tmp/ipykernel_4995/2062581150.py:14: RuntimeWarning: divide by zero encountered in log\n",
      "  return (1/X.size)*np.sum(-Y*np.log(yhat)-(1-Y)*np.log(1-yhat))\n",
      "/tmp/ipykernel_4995/2062581150.py:14: RuntimeWarning: invalid value encountered in multiply\n",
      "  return (1/X.size)*np.sum(-Y*np.log(yhat)-(1-Y)*np.log(1-yhat))\n"
     ]
    }
   ],
   "source": [
    "And = Perceptron(2)\n",
    "X = np.array([[1,1],[1,0],[0,1],[0,0]])\n",
    "Y = np.array([1,0,0,0])\n",
    "weights,bias = And.train(X,Y)\n",
    "print(And.predict(X))"
   ]
  },
  {
   "cell_type": "code",
   "execution_count": null,
   "metadata": {},
   "outputs": [],
   "source": []
  }
 ],
 "metadata": {
  "kernelspec": {
   "display_name": "Python 3",
   "language": "python",
   "name": "python3"
  },
  "language_info": {
   "codemirror_mode": {
    "name": "ipython",
    "version": 3
   },
   "file_extension": ".py",
   "mimetype": "text/x-python",
   "name": "python",
   "nbconvert_exporter": "python",
   "pygments_lexer": "ipython3",
   "version": "3.12.7"
  }
 },
 "nbformat": 4,
 "nbformat_minor": 2
}
