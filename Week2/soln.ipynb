{
 "cells": [
  {
   "cell_type": "code",
   "execution_count": 1,
   "metadata": {},
   "outputs": [],
   "source": [
    "import numpy as np"
   ]
  },
  {
   "cell_type": "markdown",
   "metadata": {},
   "source": [
    "Perceptron\n"
   ]
  },
  {
   "cell_type": "code",
   "execution_count": 141,
   "metadata": {},
   "outputs": [],
   "source": [
    "class Perceptron(object):\n",
    "    def __init__(self, input_size):\n",
    "        self.weights = np.random.randn(input_size)\n",
    "        self.bias = np.random.rand(1)\n",
    "\n",
    "    def sigmoid(self, z):\n",
    "        return 1/(1+np.exp(-z))\n",
    "    \n",
    "    def sigmoidprime(self,z):\n",
    "        return np.exp(-z)/((1+np.exp(-z))**2)\n",
    "\n",
    "    def forward(self, X):\n",
    "        return self.sigmoid(np.dot(X,self.weights) + self.bias)\n",
    "\n",
    "    def cost(self, X, Y):\n",
    "        yhat = self.forward(X)\n",
    "        return (1/X.shape[0])*np.sum(-Y*np.log(yhat)-(1-Y)*np.log(1-yhat))\n",
    "\n",
    "    def gradient(self, X, Y):\n",
    "        yhat = self.forward(X)\n",
    "        wprime = (1/X.shape[0]) * np.dot((Y-yhat),X)\n",
    "        bprime = 1/X.shape[0] * np.sum((Y-yhat))\n",
    "        return wprime, bprime\n",
    "\n",
    "    def train(self, X, Y):\n",
    "        cost = self.cost(X,Y)\n",
    "        previous_cost = cost+1\n",
    "        wprime, bprime = self.gradient(X,Y)\n",
    "        while(abs(previous_cost-cost)>=1e-5):\n",
    "            # print(self.weights, self.bias)\n",
    "            self.weights+=wprime\n",
    "            self.bias+=bprime\n",
    "            previous_cost = cost\n",
    "            cost = self.cost(X,Y)\n",
    "            # print(cost)\n",
    "            wprime, bprime = self.gradient(X,Y)\n",
    "        # print(self.weights,self.bias)\n",
    "        return self.weights, self.bias\n",
    "\n",
    "    def predict(self, X):\n",
    "        predictions = self.forward(X)\n",
    "        # print(predictions)\n",
    "        for i in range(len(predictions)):\n",
    "            if(predictions[i]>=0.5):\n",
    "                predictions[i] = 1\n",
    "            else:\n",
    "                predictions[i] = 0\n",
    "        return predictions"
   ]
  },
  {
   "cell_type": "markdown",
   "metadata": {},
   "source": [
    "And Gate"
   ]
  },
  {
   "cell_type": "code",
   "execution_count": 142,
   "metadata": {},
   "outputs": [],
   "source": [
    "And = Perceptron(2)\n",
    "X = np.array([[1,1],[1,0],[0,1],[0,0]])\n",
    "Y = np.array([1,0,0,0])\n",
    "weights,bias = And.train(X,Y)\n",
    "\n",
    "def AND(X):\n",
    "    return And.predict(X)"
   ]
  },
  {
   "cell_type": "markdown",
   "metadata": {},
   "source": [
    "We cant make XOR gate with a perceptron.\n"
   ]
  },
  {
   "cell_type": "markdown",
   "metadata": {},
   "source": [
    "XOR Gate with a hidden layer"
   ]
  },
  {
   "cell_type": "code",
   "execution_count": 143,
   "metadata": {},
   "outputs": [
    {
     "name": "stdout",
     "output_type": "stream",
     "text": [
      "Predictions for XOR:\n",
      "[0. 1. 1. 0.]\n"
     ]
    }
   ],
   "source": [
    "X = np.array([[1,1],[1,0],[0,1],[0,0]])\n",
    "Y = np.array([0,1,1,0])\n",
    "\n",
    "number_of_neurons = 2\n",
    "hidden_layer = np.array([Perceptron(2),Perceptron(2)])\n",
    "output_layer = Perceptron(number_of_neurons )\n",
    "\n",
    "h_Y = np.array([[1, 1, 1, 0],[0, 1, 1, 1]])\n",
    "hidden_outputs = []\n",
    "\n",
    "for i in range(len(hidden_layer)):\n",
    "    perceptron = hidden_layer[i]\n",
    "    perceptron.train(X,h_Y[i])\n",
    "    hidden_outputs.append(perceptron.forward(X))\n",
    "\n",
    "hidden_outputs = np.column_stack(hidden_outputs)\n",
    "  \n",
    "output_layer.train(hidden_outputs, Y)\n",
    "hidden_outputs = np.column_stack([perceptron.forward(X) for perceptron in hidden_layer])\n",
    "\n",
    "def XOR(X):\n",
    "    hidden_outputs = np.column_stack([perceptron.forward(X) for perceptron in hidden_layer])\n",
    "    return output_layer.predict(hidden_outputs)\n",
    "\n",
    "predictions = XOR(X)\n",
    "print(\"Predictions for XOR:\")\n",
    "print(predictions)"
   ]
  },
  {
   "cell_type": "markdown",
   "metadata": {},
   "source": [
    "Full Adder\n"
   ]
  },
  {
   "cell_type": "code",
   "execution_count": 144,
   "metadata": {},
   "outputs": [],
   "source": [
    "Or = Perceptron(2)\n",
    "X = np.array([[1,1],[1,0],[0,1],[0,0]])\n",
    "Y = np.array([1,1,1,0])\n",
    "weights,bias = Or.train(X,Y)\n",
    "\n",
    "def OR(X):\n",
    "    return Or.predict(X)\n",
    "\n",
    "def full_adder(a,b,c):\n",
    "    s1 = XOR([a,b])\n",
    "    s2 = XOR([s1[0],c])\n",
    "    c1 = OR([AND([s1[0],c])[0],AND([a,b])[0]])\n",
    "    c2 = OR([c1[0],AND([s1[0],c])[0]])\n",
    "    return s2[0], c2[0]\n"
   ]
  },
  {
   "cell_type": "markdown",
   "metadata": {},
   "source": [
    "Ripple Carry Adder\n"
   ]
  },
  {
   "cell_type": "code",
   "execution_count": 145,
   "metadata": {},
   "outputs": [
    {
     "name": "stdout",
     "output_type": "stream",
     "text": [
      "RCA of 1111 and 1111:\n",
      "[0.0, 1.0, 1.0, 1.0, 1.0]\n"
     ]
    }
   ],
   "source": [
    "def RCA(a,b):\n",
    "    c = 0\n",
    "    sum = []\n",
    "    sum.extend([0]*len(a))\n",
    "    for i in range(len(a)-1,-1,-1):\n",
    "        s,c = full_adder(a[i],b[i],c)\n",
    "        sum[i] = s\n",
    "    sum=[c]+sum\n",
    "    return sum\n",
    "\n",
    "a = [1,1,1,0]\n",
    "b = [0,0,0,1]\n",
    "print(\"RCA of 1111 and 1111:\")\n",
    "print(RCA(a,b))"
   ]
  }
 ],
 "metadata": {
  "kernelspec": {
   "display_name": "Python 3",
   "language": "python",
   "name": "python3"
  },
  "language_info": {
   "codemirror_mode": {
    "name": "ipython",
    "version": 3
   },
   "file_extension": ".py",
   "mimetype": "text/x-python",
   "name": "python",
   "nbconvert_exporter": "python",
   "pygments_lexer": "ipython3",
   "version": "3.12.3"
  }
 },
 "nbformat": 4,
 "nbformat_minor": 2
}
